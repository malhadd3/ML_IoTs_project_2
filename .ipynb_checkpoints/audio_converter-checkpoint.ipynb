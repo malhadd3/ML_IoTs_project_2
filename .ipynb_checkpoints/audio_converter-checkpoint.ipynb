{
 "cells": [
  {
   "cell_type": "code",
   "execution_count": 17,
   "id": "b4b99a9a",
   "metadata": {},
   "outputs": [
    {
     "name": "stdout",
     "output_type": "stream",
     "text": [
      "C:\\Users\\SerDude\\Desktop\\master\\ML_materials\\VScode\\Project_2\\datasets\\Active\n"
     ]
    }
   ],
   "source": [
    "import os\n",
    "folder = 'datasets\\Active'\n",
    "path = os.path.join(os.getcwd(), folder)\n",
    "print(path)"
   ]
  },
  {
   "cell_type": "code",
   "execution_count": 18,
   "id": "76ef9548",
   "metadata": {},
   "outputs": [],
   "source": [
    "files = os.listdir(path)"
   ]
  },
  {
   "cell_type": "code",
   "execution_count": 19,
   "id": "c0d813b6",
   "metadata": {},
   "outputs": [],
   "source": [
    "for i, file in enumerate(files):\n",
    "    file_path = os.path.join(path, file)\n",
    "#     output_path = os.path.join(os.getcwd(), 'datasets\\\\')\n",
    "#     print(output_path)\n",
    "    cmd = f\"ffmpeg -i {file_path} -acodec pcm_s16le -ac 1 -ar 16000 outfile{i}.wav\"\n",
    "    os.system(cmd)"
   ]
  },
  {
   "cell_type": "code",
   "execution_count": null,
   "id": "73beff6f",
   "metadata": {},
   "outputs": [],
   "source": []
  }
 ],
 "metadata": {
  "kernelspec": {
   "display_name": "Python 3 (ipykernel)",
   "language": "python",
   "name": "python3"
  },
  "language_info": {
   "codemirror_mode": {
    "name": "ipython",
    "version": 3
   },
   "file_extension": ".py",
   "mimetype": "text/x-python",
   "name": "python",
   "nbconvert_exporter": "python",
   "pygments_lexer": "ipython3",
   "version": "3.9.16"
  }
 },
 "nbformat": 4,
 "nbformat_minor": 5
}
