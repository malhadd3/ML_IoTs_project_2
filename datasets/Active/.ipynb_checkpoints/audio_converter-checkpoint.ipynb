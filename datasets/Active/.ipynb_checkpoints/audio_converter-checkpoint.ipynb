{
 "cells": [
  {
   "cell_type": "code",
   "execution_count": 1,
   "id": "b4b99a9a",
   "metadata": {},
   "outputs": [],
   "source": [
    "import os\n",
    "# folder = 'datasets\\Active'\n",
    "# path = os.path.join(os.getcwd(), folder)\n",
    "# print(path)"
   ]
  },
  {
   "cell_type": "code",
   "execution_count": 4,
   "id": "76ef9548",
   "metadata": {},
   "outputs": [
    {
     "name": "stdout",
     "output_type": "stream",
     "text": [
      "['.ipynb_checkpoints', 'Active1.m4a', 'Active10.m4a', 'Active100.m4a', 'Active101.m4a', 'Active102.m4a', 'Active103.m4a', 'Active104.m4a', 'Active105.m4a', 'Active11.m4a', 'Active12.m4a', 'Active13.m4a', 'Active14.m4a', 'Active15.m4a', 'Active17.m4a', 'Active18.m4a', 'Active2.m4a', 'Active20.m4a', 'Active21.m4a', 'Active23.m4a', 'Active24.m4a', 'Active25.m4a', 'Active26.m4a', 'Active27.m4a', 'Active28.m4a', 'Active29.m4a', 'Active3.m4a', 'Active30.m4a', 'Active32.m4a', 'Active33.m4a', 'Active34.m4a', 'Active35.m4a', 'Active36.m4a', 'Active38.m4a', 'Active39.m4a', 'Active4.m4a', 'Active40.m4a', 'Active41.m4a', 'Active42.m4a', 'Active43.m4a', 'Active44.m4a', 'Active45.m4a', 'Active46.m4a', 'Active47.m4a', 'Active48.m4a', 'Active49.m4a', 'Active5.m4a', 'Active50.m4a', 'Active51.m4a', 'Active52.m4a', 'Active53.m4a', 'Active54.m4a', 'Active55.m4a', 'Active56.m4a', 'Active57.m4a', 'Active58.m4a', 'Active59.m4a', 'Active6.m4a', 'Active60.m4a', 'Active61.m4a', 'Active62.m4a', 'Active63.m4a', 'Active64.m4a', 'Active65.m4a', 'Active66.m4a', 'Active67.m4a', 'Active68.m4a', 'Active69.m4a', 'Active7.m4a', 'Active70.m4a', 'Active71.m4a', 'Active72.m4a', 'Active73.m4a', 'Active74.m4a', 'Active75.m4a', 'Active77.m4a', 'Active78.m4a', 'Active79.m4a', 'Active8.m4a', 'Active80.m4a', 'Active81.m4a', 'Active82.m4a', 'Active83.m4a', 'Active84.m4a', 'Active85.m4a', 'Active86.m4a', 'Active87.m4a', 'Active88.m4a', 'Active89.m4a', 'Active9.m4a', 'Active90.m4a', 'Active91.m4a', 'Active92.m4a', 'Active93.m4a', 'Active94.m4a', 'Active95.m4a', 'Active96.m4a', 'Active97.m4a', 'Active98.m4a', 'Active99.m4a']\n"
     ]
    }
   ],
   "source": [
    "files = os.listdir(os.getcwd())\n",
    "print(files[:-1])"
   ]
  },
  {
   "cell_type": "code",
   "execution_count": 5,
   "id": "c0d813b6",
   "metadata": {},
   "outputs": [],
   "source": [
    "for i, file in enumerate(files):\n",
    "#     file_path = os.path.join(path, file)\n",
    "#     output_path = os.path.join(os.getcwd(), 'datasets\\\\')\n",
    "#     print(output_path)\n",
    "    cmd = f\"ffmpeg -i {file} -acodec pcm_s16le -ac 1 -ar 16000 outfile{i}.wav\"\n",
    "    os.system(cmd)"
   ]
  },
  {
   "cell_type": "code",
   "execution_count": null,
   "id": "73beff6f",
   "metadata": {},
   "outputs": [],
   "source": []
  }
 ],
 "metadata": {
  "kernelspec": {
   "display_name": "Python 3 (ipykernel)",
   "language": "python",
   "name": "python3"
  },
  "language_info": {
   "codemirror_mode": {
    "name": "ipython",
    "version": 3
   },
   "file_extension": ".py",
   "mimetype": "text/x-python",
   "name": "python",
   "nbconvert_exporter": "python",
   "pygments_lexer": "ipython3",
   "version": "3.9.16"
  }
 },
 "nbformat": 4,
 "nbformat_minor": 5
}
